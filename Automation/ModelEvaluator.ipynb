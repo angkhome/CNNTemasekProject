{
 "cells": [
  {
   "cell_type": "markdown",
   "metadata": {},
   "source": [
    "## Author : Joseph Hencil Peter\n",
    "### (Temasek Admission Id : 1880282G)\n",
    "### Program/Code : ModelEvaluator\n",
    "\n",
    "### Description: Evaluate each model and stored the accuracy, loss and execution time in EvaluationReport.txt file."
   ]
  },
  {
   "cell_type": "code",
   "execution_count": 0,
   "metadata": {
    "colab": {},
    "colab_type": "code",
    "id": "sagSOrJjHNFm"
   },
   "outputs": [],
   "source": [
    "#import libraries\n",
    "import os"
   ]
  },
  {
   "cell_type": "code",
   "execution_count": 0,
   "metadata": {
    "colab": {},
    "colab_type": "code",
    "id": "51cun6TUHNFa"
   },
   "outputs": [],
   "source": [
    "#mount google drive\n",
    "from google.colab import drive\n",
    "drive.mount('/content/gdrive')\n",
    "\n"
   ]
  },
  {
   "cell_type": "code",
   "execution_count": 0,
   "metadata": {
    "colab": {},
    "colab_type": "code",
    "id": "TC8XFd49POd7"
   },
   "outputs": [],
   "source": [
    "#configure input folder\n",
    "inputFolder=\"/content/gdrive/My Drive/CNNProject/SampleOut_2018-12-03_23-22-30.624946/\"\n",
    "with open('/content/gdrive/My Drive/CNNProject/SampleOut_2018-12-03_23-22-30.624946/StartupTest.txt', 'w') as f:\n",
    "  f.write('Google Drive Mounted...You may go ahead now!!!')\n",
    "!cat /content/gdrive/My\\ Drive/CNNProject/SampleOut_2018-12-03_23-22-30.624946/StartupTest.txt\n"
   ]
  },
  {
   "cell_type": "code",
   "execution_count": 0,
   "metadata": {
    "colab": {},
    "colab_type": "code",
    "id": "Mvb6JogwHNFu"
   },
   "outputs": [],
   "source": [
    "#read the models and execute it\n",
    "print('Current Folder',os.getcwd())\n",
    "for file in os.listdir(inputFolder):\n",
    "    if file.endswith(\".py\"):\n",
    "        filename = os.path.join(inputFolder, file)\n",
    "        if os.path.isfile(filename):\n",
    "          print(filename)\n",
    "          filename = \"'\" + filename + \"'\"\n",
    "          %run $filename\n",
    "\n",
    "#fileName ='1_Layer3.py'\n",
    "#%run $fileName"
   ]
  },
  {
   "cell_type": "code",
   "execution_count": 1,
   "metadata": {
    "colab": {},
    "colab_type": "code",
    "id": "84vPWiQsHNFh"
   },
   "outputs": [
    {
     "name": "stdout",
     "output_type": "stream",
     "text": [
      "Models are evaluated successfully!!!\n"
     ]
    }
   ],
   "source": [
    "print('Models are evaluated successfully!!!')\n",
    "\n"
   ]
  },
  {
   "cell_type": "code",
   "execution_count": 0,
   "metadata": {
    "colab": {},
    "colab_type": "code",
    "id": "ECHIW4bfL3GX"
   },
   "outputs": [],
   "source": []
  },
  {
   "cell_type": "code",
   "execution_count": 0,
   "metadata": {
    "colab": {},
    "colab_type": "code",
    "id": "1NRjSUsrnTKG"
   },
   "outputs": [],
   "source": []
  },
  {
   "cell_type": "code",
   "execution_count": 0,
   "metadata": {
    "colab": {},
    "colab_type": "code",
    "id": "2qCaRtIxnopg"
   },
   "outputs": [],
   "source": []
  }
 ],
 "metadata": {
  "accelerator": "GPU",
  "colab": {
   "collapsed_sections": [],
   "name": "ModelEvaluator.ipynb",
   "private_outputs": true,
   "provenance": [],
   "version": "0.3.2"
  },
  "kernelspec": {
   "display_name": "Python 3",
   "language": "python",
   "name": "python3"
  },
  "language_info": {
   "codemirror_mode": {
    "name": "ipython",
    "version": 3
   },
   "file_extension": ".py",
   "mimetype": "text/x-python",
   "name": "python",
   "nbconvert_exporter": "python",
   "pygments_lexer": "ipython3",
   "version": "3.5.6"
  }
 },
 "nbformat": 4,
 "nbformat_minor": 1
}
